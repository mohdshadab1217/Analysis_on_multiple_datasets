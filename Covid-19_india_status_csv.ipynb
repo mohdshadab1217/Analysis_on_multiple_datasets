{
 "cells": [
  {
   "cell_type": "markdown",
   "id": "e16bef71",
   "metadata": {},
   "source": [
    "# Covid-19 Data Analysis using Pandas"
   ]
  },
  {
   "cell_type": "code",
   "execution_count": null,
   "id": "a5e7460c",
   "metadata": {},
   "outputs": [],
   "source": [
    "import pandas as pd \n",
    "covid= pd.read_csv('dataset/Covid-19_India_Status.csv')"
   ]
  },
  {
   "cell_type": "markdown",
   "id": "ed4da8c6",
   "metadata": {},
   "source": [
    "1. Print First And Last 10 Values From The Dataframe?"
   ]
  },
  {
   "cell_type": "code",
   "execution_count": null,
   "id": "7786ebc2",
   "metadata": {},
   "outputs": [],
   "source": [
    "pd.concat([covid.head(10),covid.tail(10)])"
   ]
  },
  {
   "cell_type": "markdown",
   "id": "d0784f25",
   "metadata": {},
   "source": [
    "2. How many Rows & Columns in Dataframe?"
   ]
  },
  {
   "cell_type": "code",
   "execution_count": null,
   "id": "e08ccedd",
   "metadata": {},
   "outputs": [],
   "source": [
    "covid.shape"
   ]
  },
  {
   "cell_type": "markdown",
   "id": "24c15c10",
   "metadata": {},
   "source": [
    "3. Display Data Types Of Each Column?"
   ]
  },
  {
   "cell_type": "code",
   "execution_count": null,
   "id": "8111354d",
   "metadata": {},
   "outputs": [],
   "source": [
    "covid.dtypes"
   ]
  },
  {
   "cell_type": "markdown",
   "id": "473cb80e",
   "metadata": {},
   "source": [
    "4. Find Out The State Which Has Minimum Total Cases?"
   ]
  },
  {
   "cell_type": "code",
   "execution_count": null,
   "id": "151ef306",
   "metadata": {},
   "outputs": [],
   "source": [
    "covid[covid['Total Cases']==covid['Total Cases'].min()]['State/UTs']"
   ]
  },
  {
   "cell_type": "markdown",
   "id": "3e1b9a5a",
   "metadata": {},
   "source": [
    "5. Find Out The State Which Has Maximum Total Cases?"
   ]
  },
  {
   "cell_type": "code",
   "execution_count": null,
   "id": "97a7f96d",
   "metadata": {},
   "outputs": [],
   "source": [
    "covid[covid['Total Cases']==covid['Total Cases'].max()]['State/UTs']"
   ]
  },
  {
   "cell_type": "markdown",
   "id": "92d1565e",
   "metadata": {},
   "source": [
    "6. Display All States Of India From DataFrame?"
   ]
  },
  {
   "cell_type": "code",
   "execution_count": null,
   "id": "68f8aa26",
   "metadata": {},
   "outputs": [],
   "source": [
    "covid['State/UTs']"
   ]
  },
  {
   "cell_type": "markdown",
   "id": "ca5ae414",
   "metadata": {},
   "source": [
    "7. Display All The Data Of States Having Deaths Greater Than 10000?"
   ]
  },
  {
   "cell_type": "code",
   "execution_count": null,
   "id": "1411caf1",
   "metadata": {},
   "outputs": [],
   "source": [
    "covid[covid['Deaths']>10000]"
   ]
  },
  {
   "cell_type": "markdown",
   "id": "b52338fc",
   "metadata": {},
   "source": [
    "8. Count The Total Cases Of India?"
   ]
  },
  {
   "cell_type": "code",
   "execution_count": null,
   "id": "3a3fbd62",
   "metadata": {},
   "outputs": [],
   "source": [
    "covid['Total Cases'].sum()"
   ]
  },
  {
   "cell_type": "markdown",
   "id": "2396a913",
   "metadata": {},
   "source": [
    "9. What is the Death Ratio Of Maharashtra?"
   ]
  },
  {
   "cell_type": "code",
   "execution_count": null,
   "id": "4a483ce0",
   "metadata": {},
   "outputs": [],
   "source": [
    "covid.loc[covid['State/UTs']=='Maharashtra',['State/UTs','Death Ratio'] ]"
   ]
  },
  {
   "cell_type": "markdown",
   "id": "98b5eb4b",
   "metadata": {},
   "source": [
    "10. Which State Has Minimum Death Ratio?"
   ]
  },
  {
   "cell_type": "code",
   "execution_count": null,
   "id": "2eaf45f8",
   "metadata": {},
   "outputs": [],
   "source": [
    "covid.loc[covid['Death Ratio']==covid['Death Ratio'].min(),['State/UTs','Death Ratio'] ]"
   ]
  },
  {
   "cell_type": "markdown",
   "id": "8ea7fe0e",
   "metadata": {},
   "source": [
    "11. Find Out The Discharged Patients From The States Maharashtra,Karnataka,MP,Gujrat?"
   ]
  },
  {
   "cell_type": "code",
   "execution_count": null,
   "id": "54f038f6",
   "metadata": {},
   "outputs": [],
   "source": [
    "covid.loc[covid['State/UTs'].isin(['Maharashtra','Karnataka','Madhya Pradesh','Gujarat']),['State/UTs','Discharged']]"
   ]
  },
  {
   "cell_type": "markdown",
   "id": "d7b00ba8",
   "metadata": {},
   "source": [
    "12. Find Out The States Having Total Cases between 1 lac to 5 lac?"
   ]
  },
  {
   "cell_type": "code",
   "execution_count": null,
   "id": "27c5558d",
   "metadata": {},
   "outputs": [],
   "source": [
    "covid.loc[(covid['Total Cases']>=100000) & (covid['Total Cases']<=500000),['State/UTs','Total Cases'] ]"
   ]
  },
  {
   "cell_type": "markdown",
   "id": "cc213978",
   "metadata": {},
   "source": [
    "13. Display All The Data Of The States Which Has Active Cases Less Than 1000?"
   ]
  },
  {
   "cell_type": "code",
   "execution_count": null,
   "id": "4ab29e67",
   "metadata": {},
   "outputs": [],
   "source": [
    "covid.loc[(covid['Active']<1000) ,['State/UTs','Active'] ]"
   ]
  },
  {
   "cell_type": "markdown",
   "id": "aa6f5735",
   "metadata": {},
   "source": [
    "14. Make A Separate CSV File Of Data Of The States Which Has Active Cases Less Than 1000?"
   ]
  },
  {
   "cell_type": "code",
   "execution_count": null,
   "id": "cfa6ae5c",
   "metadata": {},
   "outputs": [],
   "source": [
    "#covid.loc[(covid['Active']<1000) ,['State/UTs','Active'] ].to_csv('active_cases.csv',index =False)   # output =36 states"
   ]
  },
  {
   "cell_type": "markdown",
   "id": "ea418420",
   "metadata": {},
   "source": [
    "15. Total Number Of Deaths In India?"
   ]
  },
  {
   "cell_type": "code",
   "execution_count": null,
   "id": "ceaaab76",
   "metadata": {},
   "outputs": [],
   "source": [
    "covid.Deaths.sum()"
   ]
  },
  {
   "cell_type": "markdown",
   "id": "70d003fc",
   "metadata": {},
   "source": [
    "16. Top 10 highest Population States in India?"
   ]
  },
  {
   "cell_type": "code",
   "execution_count": null,
   "id": "dc820141",
   "metadata": {},
   "outputs": [],
   "source": [
    "covid.sort_values('Population',ascending=False).head(10)"
   ]
  },
  {
   "cell_type": "code",
   "execution_count": null,
   "id": "789f96b6",
   "metadata": {},
   "outputs": [],
   "source": []
  }
 ],
 "metadata": {
  "kernelspec": {
   "display_name": "Python 3 (ipykernel)",
   "language": "python",
   "name": "python3"
  },
  "language_info": {
   "codemirror_mode": {
    "name": "ipython",
    "version": 3
   },
   "file_extension": ".py",
   "mimetype": "text/x-python",
   "name": "python",
   "nbconvert_exporter": "python",
   "pygments_lexer": "ipython3",
   "version": "3.11.4"
  }
 },
 "nbformat": 4,
 "nbformat_minor": 5
}
