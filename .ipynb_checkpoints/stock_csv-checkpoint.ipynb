{
 "cells": [
  {
   "cell_type": "markdown",
   "id": "022bee20",
   "metadata": {},
   "source": [
    "# Exploratory Data Analysis on E-Commerce Data [Actual transactions from UK retailer]"
   ]
  },
  {
   "cell_type": "markdown",
   "id": "aea5d5de",
   "metadata": {},
   "source": [
    "All Column Names Description:\n",
    "\n",
    "1. InvoiceNo (invoice_num): A number assigned to each transaction\n",
    "2. StockCode (stock_code): Product code\n",
    "3. Description (description): Product name\n",
    "4. Quantity (quantity): Number of products purchased for each transaction\n",
    "5. InvoiceDate (invoice_date): Timestamp for each transaction\n",
    "6. UnitPrice (unit_price): Product price per unit\n",
    "7. CustomerID (cust_id): Unique identifier each customer\n",
    "8. Country (country): Country name"
   ]
  },
  {
   "cell_type": "code",
   "execution_count": 1,
   "id": "a5ca8859",
   "metadata": {},
   "outputs": [],
   "source": [
    "import pandas as pd\n",
    "stock = pd.read_csv('dataset/stock.csv', encoding = 'cp1252')\n",
    "import matplotlib.pyplot as plt"
   ]
  },
  {
   "cell_type": "markdown",
   "id": "621a4725",
   "metadata": {},
   "source": [
    "##### 1. How to find out total no. of records "
   ]
  },
  {
   "cell_type": "code",
   "execution_count": 2,
   "id": "9102f33c",
   "metadata": {},
   "outputs": [
    {
     "name": "stdout",
     "output_type": "stream",
     "text": [
      "Number of rows: 541909\n"
     ]
    }
   ],
   "source": [
    "print('Number of rows:',stock.shape[0])"
   ]
  },
  {
   "cell_type": "markdown",
   "id": "307427f6",
   "metadata": {},
   "source": [
    "##### 2. How to find out total no. of columns?"
   ]
  },
  {
   "cell_type": "code",
   "execution_count": 3,
   "id": "b21bdae0",
   "metadata": {},
   "outputs": [
    {
     "name": "stdout",
     "output_type": "stream",
     "text": [
      "Number of columns: 8\n"
     ]
    }
   ],
   "source": [
    "print('Number of columns:',stock.shape[1])"
   ]
  },
  {
   "cell_type": "markdown",
   "id": "07df15e8",
   "metadata": {},
   "source": [
    "##### 3. Display all column names ?"
   ]
  },
  {
   "cell_type": "code",
   "execution_count": 4,
   "id": "70801a40",
   "metadata": {},
   "outputs": [
    {
     "data": {
      "text/plain": [
       "Index(['InvoiceNo', 'StockCode', 'Description', 'Quantity', 'InvoiceDate',\n",
       "       'UnitPrice', 'CustomerID', 'Country'],\n",
       "      dtype='object')"
      ]
     },
     "execution_count": 4,
     "metadata": {},
     "output_type": "execute_result"
    }
   ],
   "source": [
    "stock.columns"
   ]
  },
  {
   "cell_type": "markdown",
   "id": "77651567",
   "metadata": {},
   "source": [
    "##### 4. How to find out all missing values for each columns?"
   ]
  },
  {
   "cell_type": "code",
   "execution_count": 5,
   "id": "ff5ecd19",
   "metadata": {},
   "outputs": [
    {
     "name": "stdout",
     "output_type": "stream",
     "text": [
      "<class 'pandas.core.frame.DataFrame'>\n",
      "RangeIndex: 541909 entries, 0 to 541908\n",
      "Data columns (total 8 columns):\n",
      " #   Column       Non-Null Count   Dtype  \n",
      "---  ------       --------------   -----  \n",
      " 0   InvoiceNo    541909 non-null  object \n",
      " 1   StockCode    541909 non-null  object \n",
      " 2   Description  540455 non-null  object \n",
      " 3   Quantity     541909 non-null  int64  \n",
      " 4   InvoiceDate  541909 non-null  object \n",
      " 5   UnitPrice    541909 non-null  float64\n",
      " 6   CustomerID   406829 non-null  float64\n",
      " 7   Country      541909 non-null  object \n",
      "dtypes: float64(2), int64(1), object(5)\n",
      "memory usage: 33.1+ MB\n"
     ]
    }
   ],
   "source": [
    "stock.info()"
   ]
  },
  {
   "cell_type": "code",
   "execution_count": 6,
   "id": "00bde14a",
   "metadata": {},
   "outputs": [],
   "source": [
    "# By understanding the data in a more descriptive manner,\n",
    "# we notice one thing:\n",
    "# Quantity has negative values, \n",
    "# At this stage, we’ll just remove Quantity with negative values."
   ]
  },
  {
   "cell_type": "markdown",
   "id": "adcfd9dd",
   "metadata": {},
   "source": [
    "##### 5. First Show all Quantity has negative values records?"
   ]
  },
  {
   "cell_type": "code",
   "execution_count": 7,
   "id": "ffa4af78",
   "metadata": {},
   "outputs": [
    {
     "data": {
      "text/html": [
       "<div>\n",
       "<style scoped>\n",
       "    .dataframe tbody tr th:only-of-type {\n",
       "        vertical-align: middle;\n",
       "    }\n",
       "\n",
       "    .dataframe tbody tr th {\n",
       "        vertical-align: top;\n",
       "    }\n",
       "\n",
       "    .dataframe thead th {\n",
       "        text-align: right;\n",
       "    }\n",
       "</style>\n",
       "<table border=\"1\" class=\"dataframe\">\n",
       "  <thead>\n",
       "    <tr style=\"text-align: right;\">\n",
       "      <th></th>\n",
       "      <th>InvoiceNo</th>\n",
       "      <th>StockCode</th>\n",
       "      <th>Description</th>\n",
       "      <th>Quantity</th>\n",
       "      <th>InvoiceDate</th>\n",
       "      <th>UnitPrice</th>\n",
       "      <th>CustomerID</th>\n",
       "      <th>Country</th>\n",
       "    </tr>\n",
       "  </thead>\n",
       "  <tbody>\n",
       "    <tr>\n",
       "      <th>141</th>\n",
       "      <td>C536379</td>\n",
       "      <td>D</td>\n",
       "      <td>Discount</td>\n",
       "      <td>-1</td>\n",
       "      <td>12/1/2010 9:41</td>\n",
       "      <td>27.50</td>\n",
       "      <td>14527.0</td>\n",
       "      <td>United Kingdom</td>\n",
       "    </tr>\n",
       "    <tr>\n",
       "      <th>154</th>\n",
       "      <td>C536383</td>\n",
       "      <td>35004C</td>\n",
       "      <td>SET OF 3 COLOURED  FLYING DUCKS</td>\n",
       "      <td>-1</td>\n",
       "      <td>12/1/2010 9:49</td>\n",
       "      <td>4.65</td>\n",
       "      <td>15311.0</td>\n",
       "      <td>United Kingdom</td>\n",
       "    </tr>\n",
       "    <tr>\n",
       "      <th>235</th>\n",
       "      <td>C536391</td>\n",
       "      <td>22556</td>\n",
       "      <td>PLASTERS IN TIN CIRCUS PARADE</td>\n",
       "      <td>-12</td>\n",
       "      <td>12/1/2010 10:24</td>\n",
       "      <td>1.65</td>\n",
       "      <td>17548.0</td>\n",
       "      <td>United Kingdom</td>\n",
       "    </tr>\n",
       "    <tr>\n",
       "      <th>236</th>\n",
       "      <td>C536391</td>\n",
       "      <td>21984</td>\n",
       "      <td>PACK OF 12 PINK PAISLEY TISSUES</td>\n",
       "      <td>-24</td>\n",
       "      <td>12/1/2010 10:24</td>\n",
       "      <td>0.29</td>\n",
       "      <td>17548.0</td>\n",
       "      <td>United Kingdom</td>\n",
       "    </tr>\n",
       "    <tr>\n",
       "      <th>237</th>\n",
       "      <td>C536391</td>\n",
       "      <td>21983</td>\n",
       "      <td>PACK OF 12 BLUE PAISLEY TISSUES</td>\n",
       "      <td>-24</td>\n",
       "      <td>12/1/2010 10:24</td>\n",
       "      <td>0.29</td>\n",
       "      <td>17548.0</td>\n",
       "      <td>United Kingdom</td>\n",
       "    </tr>\n",
       "    <tr>\n",
       "      <th>...</th>\n",
       "      <td>...</td>\n",
       "      <td>...</td>\n",
       "      <td>...</td>\n",
       "      <td>...</td>\n",
       "      <td>...</td>\n",
       "      <td>...</td>\n",
       "      <td>...</td>\n",
       "      <td>...</td>\n",
       "    </tr>\n",
       "    <tr>\n",
       "      <th>540449</th>\n",
       "      <td>C581490</td>\n",
       "      <td>23144</td>\n",
       "      <td>ZINC T-LIGHT HOLDER STARS SMALL</td>\n",
       "      <td>-11</td>\n",
       "      <td>12/9/2011 9:57</td>\n",
       "      <td>0.83</td>\n",
       "      <td>14397.0</td>\n",
       "      <td>United Kingdom</td>\n",
       "    </tr>\n",
       "    <tr>\n",
       "      <th>541541</th>\n",
       "      <td>C581499</td>\n",
       "      <td>M</td>\n",
       "      <td>Manual</td>\n",
       "      <td>-1</td>\n",
       "      <td>12/9/2011 10:28</td>\n",
       "      <td>224.69</td>\n",
       "      <td>15498.0</td>\n",
       "      <td>United Kingdom</td>\n",
       "    </tr>\n",
       "    <tr>\n",
       "      <th>541715</th>\n",
       "      <td>C581568</td>\n",
       "      <td>21258</td>\n",
       "      <td>VICTORIAN SEWING BOX LARGE</td>\n",
       "      <td>-5</td>\n",
       "      <td>12/9/2011 11:57</td>\n",
       "      <td>10.95</td>\n",
       "      <td>15311.0</td>\n",
       "      <td>United Kingdom</td>\n",
       "    </tr>\n",
       "    <tr>\n",
       "      <th>541716</th>\n",
       "      <td>C581569</td>\n",
       "      <td>84978</td>\n",
       "      <td>HANGING HEART JAR T-LIGHT HOLDER</td>\n",
       "      <td>-1</td>\n",
       "      <td>12/9/2011 11:58</td>\n",
       "      <td>1.25</td>\n",
       "      <td>17315.0</td>\n",
       "      <td>United Kingdom</td>\n",
       "    </tr>\n",
       "    <tr>\n",
       "      <th>541717</th>\n",
       "      <td>C581569</td>\n",
       "      <td>20979</td>\n",
       "      <td>36 PENCILS TUBE RED RETROSPOT</td>\n",
       "      <td>-5</td>\n",
       "      <td>12/9/2011 11:58</td>\n",
       "      <td>1.25</td>\n",
       "      <td>17315.0</td>\n",
       "      <td>United Kingdom</td>\n",
       "    </tr>\n",
       "  </tbody>\n",
       "</table>\n",
       "<p>10624 rows × 8 columns</p>\n",
       "</div>"
      ],
      "text/plain": [
       "       InvoiceNo StockCode                       Description  Quantity  \\\n",
       "141      C536379         D                          Discount        -1   \n",
       "154      C536383    35004C   SET OF 3 COLOURED  FLYING DUCKS        -1   \n",
       "235      C536391     22556    PLASTERS IN TIN CIRCUS PARADE        -12   \n",
       "236      C536391     21984  PACK OF 12 PINK PAISLEY TISSUES        -24   \n",
       "237      C536391     21983  PACK OF 12 BLUE PAISLEY TISSUES        -24   \n",
       "...          ...       ...                               ...       ...   \n",
       "540449   C581490     23144   ZINC T-LIGHT HOLDER STARS SMALL       -11   \n",
       "541541   C581499         M                            Manual        -1   \n",
       "541715   C581568     21258        VICTORIAN SEWING BOX LARGE        -5   \n",
       "541716   C581569     84978  HANGING HEART JAR T-LIGHT HOLDER        -1   \n",
       "541717   C581569     20979     36 PENCILS TUBE RED RETROSPOT        -5   \n",
       "\n",
       "            InvoiceDate  UnitPrice  CustomerID         Country  \n",
       "141      12/1/2010 9:41      27.50     14527.0  United Kingdom  \n",
       "154      12/1/2010 9:49       4.65     15311.0  United Kingdom  \n",
       "235     12/1/2010 10:24       1.65     17548.0  United Kingdom  \n",
       "236     12/1/2010 10:24       0.29     17548.0  United Kingdom  \n",
       "237     12/1/2010 10:24       0.29     17548.0  United Kingdom  \n",
       "...                 ...        ...         ...             ...  \n",
       "540449   12/9/2011 9:57       0.83     14397.0  United Kingdom  \n",
       "541541  12/9/2011 10:28     224.69     15498.0  United Kingdom  \n",
       "541715  12/9/2011 11:57      10.95     15311.0  United Kingdom  \n",
       "541716  12/9/2011 11:58       1.25     17315.0  United Kingdom  \n",
       "541717  12/9/2011 11:58       1.25     17315.0  United Kingdom  \n",
       "\n",
       "[10624 rows x 8 columns]"
      ]
     },
     "execution_count": 7,
     "metadata": {},
     "output_type": "execute_result"
    }
   ],
   "source": [
    "stock[stock.Quantity <0]"
   ]
  },
  {
   "cell_type": "markdown",
   "id": "1c3b607b",
   "metadata": {},
   "source": [
    "##### 6. Then find out total shape of Quantity has negative values records? [shape=10624]"
   ]
  },
  {
   "cell_type": "code",
   "execution_count": 8,
   "id": "5591f861",
   "metadata": {},
   "outputs": [
    {
     "data": {
      "text/plain": [
       "(10624, 8)"
      ]
     },
     "execution_count": 8,
     "metadata": {},
     "output_type": "execute_result"
    }
   ],
   "source": [
    "stock[stock.Quantity <0].shape"
   ]
  },
  {
   "cell_type": "markdown",
   "id": "0f98138a",
   "metadata": {},
   "source": [
    "##### 7. How to remove all Quantity records with negative values?"
   ]
  },
  {
   "cell_type": "code",
   "execution_count": 9,
   "id": "9c433464",
   "metadata": {},
   "outputs": [],
   "source": [
    "stock = stock[stock.Quantity >=0]"
   ]
  },
  {
   "cell_type": "markdown",
   "id": "2620512e",
   "metadata": {},
   "source": [
    "##### 8. Then find out total records shape ? [df_new.shape is  541909-10624=531285]"
   ]
  },
  {
   "cell_type": "code",
   "execution_count": 10,
   "id": "d3ff376e",
   "metadata": {},
   "outputs": [
    {
     "data": {
      "text/plain": [
       "(531285, 8)"
      ]
     },
     "execution_count": 10,
     "metadata": {},
     "output_type": "execute_result"
    }
   ],
   "source": [
    "stock.shape"
   ]
  },
  {
   "cell_type": "code",
   "execution_count": 11,
   "id": "28c06881",
   "metadata": {},
   "outputs": [],
   "source": [
    "# To calculate the total money spent on each purchase, \n",
    "# we simply multiply Quantity with Unit Price:"
   ]
  },
  {
   "cell_type": "code",
   "execution_count": 12,
   "id": "c04c1def",
   "metadata": {},
   "outputs": [],
   "source": [
    "amount_spent = stock.Quantity * stock.UnitPrice"
   ]
  },
  {
   "cell_type": "markdown",
   "id": "0352df0e",
   "metadata": {},
   "source": [
    "##### 9. After UnitPrice column insert new column Amount_Spent & also formula assigned?"
   ]
  },
  {
   "cell_type": "code",
   "execution_count": 13,
   "id": "d09c1b9f",
   "metadata": {},
   "outputs": [],
   "source": [
    "stock.insert(6, 'AmountSpent', amount_spent)"
   ]
  },
  {
   "cell_type": "markdown",
   "id": "9b63f85d",
   "metadata": {},
   "source": [
    "##### 10. Convert InvoiceDate column into datetime format ?"
   ]
  },
  {
   "cell_type": "code",
   "execution_count": 14,
   "id": "5b7763e9",
   "metadata": {},
   "outputs": [],
   "source": [
    "stock['InvoiceDate'] = pd.to_datetime(stock['InvoiceDate'])"
   ]
  },
  {
   "cell_type": "markdown",
   "id": "510eba7e",
   "metadata": {},
   "source": [
    "##### 11.  Add a few columns after InvoiceDate that consist of the Year, Month, Day and Hour for each transaction for analysis work."
   ]
  },
  {
   "cell_type": "code",
   "execution_count": 15,
   "id": "f617b3ee",
   "metadata": {},
   "outputs": [],
   "source": [
    "stock.insert(5, 'Year', stock.InvoiceDate.dt.year)\n",
    "stock.insert(6, 'Month', stock.InvoiceDate.dt.month)\n",
    "stock.insert(7, 'Day', stock.InvoiceDate.dt.day)\n",
    "stock.insert(8, 'Hour', stock.InvoiceDate.dt.hour)\n",
    "# or (below method will add column at last)\n",
    "#stock = stock.assign(Year = stock.InvoiceDate.dt.year, Month = stock.InvoiceDate.dt.month, Day = stock.InvoiceDate.dt.day, Hour = df_new.InvoiceDate.dt.hour)"
   ]
  },
  {
   "cell_type": "markdown",
   "id": "5f11406b",
   "metadata": {},
   "source": [
    "##### 12. How to find out Top 5 customers with highest money spent records?\n",
    "#####      Show Only 3 columns ['CustomerID','Country','Amount_Spent']"
   ]
  },
  {
   "cell_type": "code",
   "execution_count": 16,
   "id": "b8e3f8b3",
   "metadata": {},
   "outputs": [
    {
     "data": {
      "text/html": [
       "<div>\n",
       "<style scoped>\n",
       "    .dataframe tbody tr th:only-of-type {\n",
       "        vertical-align: middle;\n",
       "    }\n",
       "\n",
       "    .dataframe tbody tr th {\n",
       "        vertical-align: top;\n",
       "    }\n",
       "\n",
       "    .dataframe thead th {\n",
       "        text-align: right;\n",
       "    }\n",
       "</style>\n",
       "<table border=\"1\" class=\"dataframe\">\n",
       "  <thead>\n",
       "    <tr style=\"text-align: right;\">\n",
       "      <th></th>\n",
       "      <th>CustomerID</th>\n",
       "      <th>Country</th>\n",
       "      <th>AmountSpent</th>\n",
       "    </tr>\n",
       "  </thead>\n",
       "  <tbody>\n",
       "    <tr>\n",
       "      <th>540421</th>\n",
       "      <td>16446.0</td>\n",
       "      <td>United Kingdom</td>\n",
       "      <td>168469.60</td>\n",
       "    </tr>\n",
       "    <tr>\n",
       "      <th>61619</th>\n",
       "      <td>12346.0</td>\n",
       "      <td>United Kingdom</td>\n",
       "      <td>77183.60</td>\n",
       "    </tr>\n",
       "    <tr>\n",
       "      <th>222680</th>\n",
       "      <td>15098.0</td>\n",
       "      <td>United Kingdom</td>\n",
       "      <td>38970.00</td>\n",
       "    </tr>\n",
       "    <tr>\n",
       "      <th>15017</th>\n",
       "      <td>NaN</td>\n",
       "      <td>United Kingdom</td>\n",
       "      <td>13541.33</td>\n",
       "    </tr>\n",
       "    <tr>\n",
       "      <th>299982</th>\n",
       "      <td>NaN</td>\n",
       "      <td>United Kingdom</td>\n",
       "      <td>11062.06</td>\n",
       "    </tr>\n",
       "  </tbody>\n",
       "</table>\n",
       "</div>"
      ],
      "text/plain": [
       "        CustomerID         Country  AmountSpent\n",
       "540421     16446.0  United Kingdom    168469.60\n",
       "61619      12346.0  United Kingdom     77183.60\n",
       "222680     15098.0  United Kingdom     38970.00\n",
       "15017          NaN  United Kingdom     13541.33\n",
       "299982         NaN  United Kingdom     11062.06"
      ]
     },
     "execution_count": 16,
     "metadata": {},
     "output_type": "execute_result"
    }
   ],
   "source": [
    "stock.sort_values('AmountSpent', ascending = False).head(5).loc[:,['CustomerID','Country','AmountSpent']]"
   ]
  },
  {
   "cell_type": "markdown",
   "id": "322d8cff",
   "metadata": {},
   "source": [
    "##### 13. Plotting bar chart : How many orders (per month)?"
   ]
  },
  {
   "cell_type": "code",
   "execution_count": 17,
   "id": "815e530e",
   "metadata": {},
   "outputs": [
    {
     "data": {
      "text/plain": [
       "<Axes: title={'center': '2011'}, xlabel='Month'>"
      ]
     },
     "execution_count": 17,
     "metadata": {},
     "output_type": "execute_result"
    },
    {
     "data": {
      "image/png": "[encoded data removed]",
      "text/plain": [
       "<Figure size 640x480 with 1 Axes>"
      ]
     },
     "metadata": {},
     "output_type": "display_data"
    }
   ],
   "source": [
    "stock.groupby('Year').get_group(2011).Month.value_counts().plot(kind = 'bar', title = 2011)"
   ]
  },
  {
   "cell_type": "markdown",
   "id": "4361cfec",
   "metadata": {},
   "source": [
    "##### 14. Plotting bar chart : How many orders (per day)?"
   ]
  },
  {
   "cell_type": "code",
   "execution_count": 18,
   "id": "386ca915",
   "metadata": {},
   "outputs": [
    {
     "data": {
      "image/png": "[encoded data removed]",
      "text/plain": [
       "<Figure size 640x480 with 1 Axes>"
      ]
     },
     "metadata": {},
     "output_type": "display_data"
    }
   ],
   "source": [
    "plt.xlabel('Day')\n",
    "plt.ylabel('Number of Orders')\n",
    "plt.title('Number of orders for different days')\n",
    "stock.Day.value_counts().plot(kind = 'bar')\n",
    "plt.show()"
   ]
  },
  {
   "cell_type": "markdown",
   "id": "d310a440",
   "metadata": {},
   "source": [
    "##### 15. Plotting bar chart : How many orders (per hour)?"
   ]
  },
  {
   "cell_type": "code",
   "execution_count": 19,
   "id": "0899d48c",
   "metadata": {},
   "outputs": [
    {
     "data": {
      "image/png": "[encoded data removed]",
      "text/plain": [
       "<Figure size 640x480 with 1 Axes>"
      ]
     },
     "metadata": {},
     "output_type": "display_data"
    }
   ],
   "source": [
    "plt.xlabel('Hour')\n",
    "plt.ylabel('Number of Orders')\n",
    "plt.title('Number of orders for different Hours')\n",
    "stock.Hour.value_counts().plot(kind = 'bar')\n",
    "plt.show()"
   ]
  },
  {
   "cell_type": "code",
   "execution_count": null,
   "id": "892c4a20",
   "metadata": {},
   "outputs": [],
   "source": []
  }
 ],
 "metadata": {
  "kernelspec": {
   "display_name": "Python 3 (ipykernel)",
   "language": "python",
   "name": "python3"
  },
  "language_info": {
   "codemirror_mode": {
    "name": "ipython",
    "version": 3
   },
   "file_extension": ".py",
   "mimetype": "text/x-python",
   "name": "python",
   "nbconvert_exporter": "python",
   "pygments_lexer": "ipython3",
   "version": "3.11.7"
  },
  "widgets": {
   "application/vnd.jupyter.widget-state+json": {
    "state": {},
    "version_major": 2,
    "version_minor": 0
   }
  }
 },
 "nbformat": 4,
 "nbformat_minor": 5
}
